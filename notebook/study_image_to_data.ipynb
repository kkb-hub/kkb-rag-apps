{
 "cells": [
  {
   "cell_type": "markdown",
   "metadata": {},
   "source": [
    "# このノートブックについて\n",
    "- langchainで画像からデータを取り出すアプリ作成のための練習ノートブック\n",
    "- 参考\n",
    "  - [langchain公式チュートリアル - 基本編](https://python.langchain.com/v0.2/docs/tutorials/llm_chain/)\n",
    "  - [langchain公式チュートリアル - PDF読み込み編](https://python.langchain.com/v0.2/docs/tutorials/pdf_qa/)\n",
    "  - [langchain公式チュートリアル - JSON出力](https://python.langchain.com/v0.2/docs/how_to/output_parser_json/)\n",
    "- LangChainのバージョンはv0.2であることに注意 "
   ]
  },
  {
   "cell_type": "markdown",
   "metadata": {},
   "source": [
    "# ライブラリインポート"
   ]
  },
  {
   "cell_type": "code",
   "execution_count": 65,
   "metadata": {},
   "outputs": [],
   "source": [
    "import pandas as pd"
   ]
  },
  {
   "cell_type": "markdown",
   "metadata": {},
   "source": [
    "# OpenAIのAPIキー読み込み\n",
    "- APIキーを環境変数として格納する方法[Link](https://happy-shibusawake.com/api-key/1406/)"
   ]
  },
  {
   "cell_type": "code",
   "execution_count": 66,
   "metadata": {},
   "outputs": [],
   "source": [
    "import getpass\n",
    "import os\n",
    "\n",
    "# os.environ[\"OPENAI_API_KEY\"] = getpass.getpass() # Win11のvenv環境では不要だった\n",
    "\n",
    "from langchain_openai import ChatOpenAI\n",
    "\n",
    "model = ChatOpenAI(model=\"gpt-4o\")"
   ]
  },
  {
   "cell_type": "markdown",
   "metadata": {},
   "source": [
    "## モデルを試しに呼び出してみる"
   ]
  },
  {
   "cell_type": "code",
   "execution_count": 67,
   "metadata": {},
   "outputs": [
    {
     "data": {
      "text/plain": [
       "AIMessage(content='こんにちは！', response_metadata={'token_usage': {'completion_tokens': 2, 'prompt_tokens': 20, 'total_tokens': 22}, 'model_name': 'gpt-4o-2024-05-13', 'system_fingerprint': 'fp_3e7d703517', 'finish_reason': 'stop', 'logprobs': None}, id='run-127e0f22-2b40-4602-a137-c40d872771ea-0', usage_metadata={'input_tokens': 20, 'output_tokens': 2, 'total_tokens': 22})"
      ]
     },
     "execution_count": 67,
     "metadata": {},
     "output_type": "execute_result"
    }
   ],
   "source": [
    "from langchain_core.messages import HumanMessage, SystemMessage\n",
    "\n",
    "messages = [\n",
    "    SystemMessage(content=\"Translate the following from English into Japanese\"),\n",
    "    HumanMessage(content=\"hi!\"),\n",
    "]\n",
    "\n",
    "model.invoke(messages)"
   ]
  },
  {
   "cell_type": "markdown",
   "metadata": {},
   "source": [
    "# 出力形式の指定\n",
    "- StrOutputParserではstr形式で出力する。\n",
    "- ほかにも、JSONなどを指定できる。"
   ]
  },
  {
   "cell_type": "code",
   "execution_count": 68,
   "metadata": {},
   "outputs": [],
   "source": [
    "from langchain_core.output_parsers import StrOutputParser\n",
    "\n",
    "parser = StrOutputParser()\n",
    "result = model.invoke(messages)"
   ]
  },
  {
   "cell_type": "code",
   "execution_count": 69,
   "metadata": {},
   "outputs": [
    {
     "data": {
      "text/plain": [
       "'こんにちは！'"
      ]
     },
     "execution_count": 69,
     "metadata": {},
     "output_type": "execute_result"
    }
   ],
   "source": [
    "parser.invoke(result) # strを取り出し"
   ]
  },
  {
   "cell_type": "markdown",
   "metadata": {},
   "source": [
    "# Chainにする\n",
    "- \"|\"でつなげるとChainを作成できる。\n",
    "- modelの指定と、出力の指定をチェーンにする例が下記である。"
   ]
  },
  {
   "cell_type": "code",
   "execution_count": 70,
   "metadata": {},
   "outputs": [
    {
     "data": {
      "text/plain": [
       "'こんにちは！'"
      ]
     },
     "execution_count": 70,
     "metadata": {},
     "output_type": "execute_result"
    }
   ],
   "source": [
    "chain = model | parser # チェーン作成\n",
    "chain.invoke(messages)"
   ]
  },
  {
   "cell_type": "markdown",
   "metadata": {},
   "source": [
    "# プロンプトテンプレート\n",
    "- 今回はユーザー入力のテキストを指定した言語に変換するテンプレートを作成する。"
   ]
  },
  {
   "cell_type": "code",
   "execution_count": 71,
   "metadata": {},
   "outputs": [],
   "source": [
    "from langchain_core.prompts import ChatPromptTemplate"
   ]
  },
  {
   "cell_type": "markdown",
   "metadata": {},
   "source": [
    "## システムメッセージテンプレート"
   ]
  },
  {
   "cell_type": "code",
   "execution_count": 72,
   "metadata": {},
   "outputs": [],
   "source": [
    "system_template = \"Translate the following into {language}:\""
   ]
  },
  {
   "cell_type": "markdown",
   "metadata": {},
   "source": [
    "## プロンプトテンプレート\n",
    "- 辞書型での定義を作成"
   ]
  },
  {
   "cell_type": "code",
   "execution_count": 73,
   "metadata": {},
   "outputs": [],
   "source": [
    "prompt_template = ChatPromptTemplate.from_messages(\n",
    "    [(\"system\", system_template), (\"user\", \"{text}\")]\n",
    ")"
   ]
  },
  {
   "cell_type": "markdown",
   "metadata": {},
   "source": [
    "## テンプレートの利用"
   ]
  },
  {
   "cell_type": "code",
   "execution_count": 74,
   "metadata": {},
   "outputs": [
    {
     "data": {
      "text/plain": [
       "ChatPromptValue(messages=[SystemMessage(content='Translate the following into Japanese:'), HumanMessage(content='hi')])"
      ]
     },
     "execution_count": 74,
     "metadata": {},
     "output_type": "execute_result"
    }
   ],
   "source": [
    "result = prompt_template.invoke({\"language\": \"Japanese\", \"text\": \"hi\"})\n",
    "\n",
    "result"
   ]
  },
  {
   "cell_type": "markdown",
   "metadata": {},
   "source": [
    "## パイプライン(Chain)化"
   ]
  },
  {
   "cell_type": "code",
   "execution_count": 75,
   "metadata": {},
   "outputs": [],
   "source": [
    "chain = prompt_template | model | parser"
   ]
  },
  {
   "cell_type": "code",
   "execution_count": 76,
   "metadata": {},
   "outputs": [
    {
     "data": {
      "text/plain": [
       "'こんにちは'"
      ]
     },
     "execution_count": 76,
     "metadata": {},
     "output_type": "execute_result"
    }
   ],
   "source": [
    "chain.invoke({\"language\": \"Japanese\", \"text\": \"hi\"})"
   ]
  },
  {
   "cell_type": "markdown",
   "metadata": {},
   "source": [
    "# PDFの読み込み\n",
    "- [ここ](chrome-extension://efaidnbmnnnibpcajpcglclefindmkaj/https://nirouchlor.com/wp-content/uploads/2023/08/samson.pdf)に落ちていたデータシートを利用"
   ]
  },
  {
   "cell_type": "code",
   "execution_count": 77,
   "metadata": {},
   "outputs": [
    {
     "name": "stdout",
     "output_type": "stream",
     "text": [
      "1\n"
     ]
    }
   ],
   "source": [
    "from langchain_community.document_loaders import PyPDFLoader\n",
    "\n",
    "file_path = \"./example_data/samson.pdf\"\n",
    "loader = PyPDFLoader(file_path)\n",
    "\n",
    "docs = loader.load()\n",
    "\n",
    "print(len(docs)) # ページ数を出力"
   ]
  },
  {
   "cell_type": "markdown",
   "metadata": {},
   "source": [
    "## page_contentには1文字ずつデータが入っている。"
   ]
  },
  {
   "cell_type": "code",
   "execution_count": 78,
   "metadata": {},
   "outputs": [
    {
     "name": "stdout",
     "output_type": "stream",
     "text": [
      "I\n"
     ]
    }
   ],
   "source": [
    "print(docs[0].page_content[0:1])"
   ]
  },
  {
   "cell_type": "code",
   "execution_count": 79,
   "metadata": {},
   "outputs": [
    {
     "name": "stdout",
     "output_type": "stream",
     "text": [
      "INSTRUMENT PROJECT: 780 NEI\n",
      "DATA SHEET SPC. No. 780-FB-3090\n",
      "DATE JUNE2023 Sh. 31 of  31\n",
      "PLANT Chlori\n"
     ]
    }
   ],
   "source": [
    "print(docs[0].page_content[0:100])"
   ]
  },
  {
   "cell_type": "markdown",
   "metadata": {},
   "source": [
    "### あるページのすべての文字データを取り出す"
   ]
  },
  {
   "cell_type": "code",
   "execution_count": 80,
   "metadata": {},
   "outputs": [
    {
     "name": "stdout",
     "output_type": "stream",
     "text": [
      "INSTRUMENT PROJECT: 780 NEI\n",
      "DATA SHEET SPC. No. 780-FB-3090\n",
      "DATE JUNE2023 Sh. 31 of  31\n",
      "PLANT Chlorine Caustic Soda Plant\n",
      "DESCRIPTION Pneumatic control valve with positioner Tag. LV-050850 2\n",
      "SERVICE pure brine to tank D517 Q.ty 1LOCATION Line - 100-CW89-12139 P&ID N° 5-AM-1008.1/730\n",
      "OPERATING CONDITION Units Min. Op. Max. Des.\n",
      "FLUID PURE BRINEFLOW m3/h 75 100UP STREAM PRESSURE bar g 3 3DOWN STREAM PRESSURE bar g 1 1DIFFERENTIAL PRESSURE DROP bar 2 2SHUT-OFF PRESSURE bar g 8 8TEMPERATURE °C 85 85DENSITY K\n",
      "g/m31177 1177\n",
      "VISCOSITY cPs  0.89 0.89CRITICAL PRESSURE bar a - -VAPOUR PRESSURE bar a - -REQUIRED CV ACTUAL CV VALVETYPE  Plug v-port or globe BODY SIZE std. mfr.TRIM SIZE std. mfr.CONNECTION TYPE / RATING   Flanged ,DIN  PN 10BODY MATERIAL  carbon steel PTFE linedBONNET std. mfr.PACKING BOX PTFEPLUG TYPE Std. Mfr.TRIM MATERIAL std. mfr.SEAT/DESK  MATERIAL std. mfr.FLOW CHARACTERISTIC Equal %LEAKAGE (ANSI B16.104) VIFLOW DIRECTION OpenACTUATORTYPE std. mfr. SUPPLY FAILURE Valve openHANDWHEEL Not requiredMECHAN. POSITION INDIC. RequiredACCESSORIESPOSITIONER Electropneumatic Smart / HART typeFILTER REGULATOR / SUPPLY Mounted on the valve / min.4.5 - max.7 .0 bar   \n",
      "INPUT SIGNAL 4÷20 mA SOLENOID VALVE Not required  POWER SUPPLYBODY/TRIM MATERIALPNEUMATIC CONNECTION 1/4\" NPT-FELECTRICAL CONNECTION 1/2\" NPT-FLIMIT SWITCH Not requiredTYPEREMARKS\n",
      "(1)(2)(3) three different operating flow\n",
      "0Issue for order M.MEHD. H.KAZEMI JUNE2023\n",
      "Rev. Description Drawn. Checked. Date\n",
      "NIROU CHLOR COMPANYCONTROL VALVE\n",
      "\n"
     ]
    }
   ],
   "source": [
    "print(docs[0].page_content)"
   ]
  },
  {
   "cell_type": "code",
   "execution_count": 81,
   "metadata": {},
   "outputs": [
    {
     "name": "stdout",
     "output_type": "stream",
     "text": [
      "<class 'str'>\n"
     ]
    }
   ],
   "source": [
    "print(type(docs[0].page_content))"
   ]
  },
  {
   "cell_type": "markdown",
   "metadata": {},
   "source": [
    "## メタデータの取り出し"
   ]
  },
  {
   "cell_type": "code",
   "execution_count": 82,
   "metadata": {},
   "outputs": [
    {
     "name": "stdout",
     "output_type": "stream",
     "text": [
      "{'source': './example_data/samson.pdf', 'page': 0}\n"
     ]
    }
   ],
   "source": [
    "print(docs[0].metadata)"
   ]
  },
  {
   "cell_type": "markdown",
   "metadata": {},
   "source": [
    "# PDFをJSONに変換してみる"
   ]
  },
  {
   "cell_type": "code",
   "execution_count": 85,
   "metadata": {},
   "outputs": [
    {
     "data": {
      "text/plain": [
       "{'instrument_project': '780 NEI',\n",
       " 'data_sheet_spc_no': '780-FB-3090',\n",
       " 'date': 'JUNE2023',\n",
       " 'sheet_number': '31 of 31',\n",
       " 'plant': 'Chlorine Caustic Soda Plant',\n",
       " 'description': 'Pneumatic control valve with positioner',\n",
       " 'tag': 'LV-050850 2',\n",
       " 'service': 'pure brine to tank D517',\n",
       " 'quantity': 1,\n",
       " 'location': 'Line - 100-CW89-12139',\n",
       " 'p_id_no': '5-AM-1008.1/730',\n",
       " 'operating_condition': {'units': {'min_op': 'Min. Op.',\n",
       "   'max_op': 'Max. Des.'},\n",
       "  'fluid': 'PURE BRINE',\n",
       "  'flow': {'min': 75, 'max': 100, 'unit': 'm3/h'},\n",
       "  'up_stream_pressure': {'min': 3, 'max': 3, 'unit': 'bar g'},\n",
       "  'down_stream_pressure': {'min': 1, 'max': 1, 'unit': 'bar g'},\n",
       "  'differential_pressure_drop': {'min': 2, 'max': 2, 'unit': 'bar'},\n",
       "  'shut_off_pressure': {'min': 8, 'max': 8, 'unit': 'bar g'},\n",
       "  'temperature': {'min': 85, 'max': 85, 'unit': '°C'},\n",
       "  'density': {'min': 1177, 'max': 1177, 'unit': 'kg/m3'},\n",
       "  'viscosity': {'min': 0.89, 'max': 0.89, 'unit': 'cPs'},\n",
       "  'critical_pressure': {'min': None, 'max': None, 'unit': 'bar a'},\n",
       "  'vapour_pressure': {'min': None, 'max': None, 'unit': 'bar a'}},\n",
       " 'required_cv': None,\n",
       " 'actual_cv': None,\n",
       " 'valve_type': 'Plug v-port or globe',\n",
       " 'body_size': 'std. mfr.',\n",
       " 'trim_size': 'std. mfr.',\n",
       " 'connection_type_rating': 'Flanged, DIN PN 10',\n",
       " 'body_material': 'carbon steel PTFE lined',\n",
       " 'bonnet': 'std. mfr.',\n",
       " 'packing_box': 'PTFE',\n",
       " 'plug_type': 'Std. Mfr.',\n",
       " 'trim_material': 'std. mfr.',\n",
       " 'seat_desk_material': 'std. mfr.',\n",
       " 'flow_characteristic': 'Equal %',\n",
       " 'leakage': 'VI (ANSI B16.104)',\n",
       " 'flow_direction': 'Open',\n",
       " 'actuator_type': 'std. mfr.',\n",
       " 'supply_failure': 'Valve open',\n",
       " 'handwheel': 'Not required',\n",
       " 'mechan_position_indic': 'Required',\n",
       " 'accessories': {'positioner': 'Electropneumatic Smart / HART type',\n",
       "  'filter_regulator_supply': 'Mounted on the valve / min.4.5 - max.7 .0 bar'},\n",
       " 'input_signal': '4÷20 mA',\n",
       " 'solenoid_valve': 'Not required',\n",
       " 'power_supply': None,\n",
       " 'body_trim_material': None,\n",
       " 'pneumatic_connection': '1/4\" NPT-F',\n",
       " 'electrical_connection': '1/2\" NPT-F',\n",
       " 'limit_switch': 'Not required',\n",
       " 'type': None,\n",
       " 'remarks': ['(1)(2)(3) three different operating flow'],\n",
       " 'issue_for_order': {'drawn': 'M.MEHD.',\n",
       "  'checked': 'H.KAZEMI',\n",
       "  'date': 'JUNE2023'},\n",
       " 'revision': {'description': 'NIROU CHLOR COMPANY CONTROL VALVE'}}"
      ]
     },
     "execution_count": 85,
     "metadata": {},
     "output_type": "execute_result"
    }
   ],
   "source": [
    "system_template = (\n",
    "\n",
    "    \"\"\"You are a plant engineer.\n",
    "    I will send you data extracted as text from a PDF datasheet.\n",
    "    Please convert this data into the JSON format and output it.\n",
    "    Ensure the output is only in the form of a data file.\n",
    "    \"\"\"\n",
    ")\n",
    "\n",
    "prompt_template = ChatPromptTemplate.from_messages(\n",
    "    [(\"system\", system_template), (\"user\", \"{pdf_output}\")]\n",
    ")\n",
    "\n",
    "from langchain_core.output_parsers import JsonOutputParser\n",
    "parser = JsonOutputParser()\n",
    "\n",
    "model = ChatOpenAI(model=\"gpt-4o\")\n",
    "\n",
    "chain = prompt_template | model | parser\n",
    "\n",
    "output = chain.invoke({\"pdf_output\": docs[0].page_content})\n",
    "output"
   ]
  },
  {
   "cell_type": "code",
   "execution_count": 87,
   "metadata": {},
   "outputs": [],
   "source": [
    "import json\n",
    "\n",
    "# ファイルに書き込み\n",
    "with open('output.json', 'w') as file:\n",
    "    json.dump(output, file, indent=4)\n"
   ]
  }
 ],
 "metadata": {
  "kernelspec": {
   "display_name": "venv",
   "language": "python",
   "name": "python3"
  },
  "language_info": {
   "codemirror_mode": {
    "name": "ipython",
    "version": 3
   },
   "file_extension": ".py",
   "mimetype": "text/x-python",
   "name": "python",
   "nbconvert_exporter": "python",
   "pygments_lexer": "ipython3",
   "version": "3.11.5"
  }
 },
 "nbformat": 4,
 "nbformat_minor": 2
}
